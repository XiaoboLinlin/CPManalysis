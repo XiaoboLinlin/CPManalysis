{
 "cells": [
  {
   "cell_type": "code",
   "execution_count": 1,
   "metadata": {},
   "outputs": [],
   "source": [
    "import numpy as np\n",
    "import signac\n",
    "import os\n",
    "import matplotlib.pyplot as plt\n",
    "import matplotlib as mpl"
   ]
  },
  {
   "cell_type": "code",
   "execution_count": 2,
   "metadata": {},
   "outputs": [
    {
     "ename": "LookupError",
     "evalue": "Unable to determine project id for path '/global/project/projectdirs/m1046/Xiaobo/installed_software/CPManalysis/CPManalysis'.",
     "output_type": "error",
     "traceback": [
      "\u001b[0;31m---------------------------------------------------------------------------\u001b[0m",
      "\u001b[0;31mLookupError\u001b[0m                               Traceback (most recent call last)",
      "\u001b[0;32m/tmp/ipykernel_15522/3114671811.py\u001b[0m in \u001b[0;36m<module>\u001b[0;34m\u001b[0m\n\u001b[0;32m----> 1\u001b[0;31m \u001b[0mproject\u001b[0m \u001b[0;34m=\u001b[0m \u001b[0msignac\u001b[0m\u001b[0;34m.\u001b[0m\u001b[0mget_project\u001b[0m\u001b[0;34m(\u001b[0m\u001b[0;34m)\u001b[0m\u001b[0;34m\u001b[0m\u001b[0;34m\u001b[0m\u001b[0m\n\u001b[0m",
      "\u001b[0;32m~/.conda/envs/myenv/lib/python3.7/site-packages/signac/contrib/project.py\u001b[0m in \u001b[0;36mget_project\u001b[0;34m(root, search, **kwargs)\u001b[0m\n\u001b[1;32m   3055\u001b[0m \u001b[0;34m\u001b[0m\u001b[0m\n\u001b[1;32m   3056\u001b[0m     \"\"\"\n\u001b[0;32m-> 3057\u001b[0;31m     \u001b[0;32mreturn\u001b[0m \u001b[0mProject\u001b[0m\u001b[0;34m.\u001b[0m\u001b[0mget_project\u001b[0m\u001b[0;34m(\u001b[0m\u001b[0mroot\u001b[0m\u001b[0;34m=\u001b[0m\u001b[0mroot\u001b[0m\u001b[0;34m,\u001b[0m \u001b[0msearch\u001b[0m\u001b[0;34m=\u001b[0m\u001b[0msearch\u001b[0m\u001b[0;34m,\u001b[0m \u001b[0;34m**\u001b[0m\u001b[0mkwargs\u001b[0m\u001b[0;34m)\u001b[0m\u001b[0;34m\u001b[0m\u001b[0;34m\u001b[0m\u001b[0m\n\u001b[0m\u001b[1;32m   3058\u001b[0m \u001b[0;34m\u001b[0m\u001b[0m\n\u001b[1;32m   3059\u001b[0m \u001b[0;34m\u001b[0m\u001b[0m\n",
      "\u001b[0;32m~/.conda/envs/myenv/lib/python3.7/site-packages/signac/contrib/project.py\u001b[0m in \u001b[0;36mget_project\u001b[0;34m(cls, root, search, **kwargs)\u001b[0m\n\u001b[1;32m   2347\u001b[0m             raise LookupError(\n\u001b[1;32m   2348\u001b[0m                 \"Unable to determine project id for path '{}'.\".format(\n\u001b[0;32m-> 2349\u001b[0;31m                     \u001b[0mos\u001b[0m\u001b[0;34m.\u001b[0m\u001b[0mpath\u001b[0m\u001b[0;34m.\u001b[0m\u001b[0mabspath\u001b[0m\u001b[0;34m(\u001b[0m\u001b[0mroot\u001b[0m\u001b[0;34m)\u001b[0m\u001b[0;34m\u001b[0m\u001b[0;34m\u001b[0m\u001b[0m\n\u001b[0m\u001b[1;32m   2350\u001b[0m                 )\n\u001b[1;32m   2351\u001b[0m             )\n",
      "\u001b[0;31mLookupError\u001b[0m: Unable to determine project id for path '/global/project/projectdirs/m1046/Xiaobo/installed_software/CPManalysis/CPManalysis'."
     ]
    }
   ],
   "source": [
    "project = signac.get_project()"
   ]
  }
 ],
 "metadata": {
  "kernelspec": {
   "display_name": "Python 3.7.12 ('myenv')",
   "language": "python",
   "name": "python3"
  },
  "language_info": {
   "codemirror_mode": {
    "name": "ipython",
    "version": 3
   },
   "file_extension": ".py",
   "mimetype": "text/x-python",
   "name": "python",
   "nbconvert_exporter": "python",
   "pygments_lexer": "ipython3",
   "version": "3.7.12"
  },
  "orig_nbformat": 4,
  "vscode": {
   "interpreter": {
    "hash": "6919630734e80075d70a576084f760367d85b264783db46fb6580f9800e9e60f"
   }
  }
 },
 "nbformat": 4,
 "nbformat_minor": 2
}
